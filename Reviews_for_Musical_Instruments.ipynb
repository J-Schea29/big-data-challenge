{
  "nbformat": 4,
  "nbformat_minor": 0,
  "metadata": {
    "colab": {
      "name": "Reviews_for_Musical_Instruments.ipynb",
      "provenance": [],
      "collapsed_sections": []
    },
    "kernelspec": {
      "name": "python3",
      "display_name": "Python 3"
    },
    "language_info": {
      "name": "python"
    }
  },
  "cells": [
    {
      "cell_type": "code",
      "metadata": {
        "id": "WXba5tJQ3EgE",
        "colab": {
          "base_uri": "https://localhost:8080/"
        },
        "outputId": "b11a7407-bd31-40dc-ed93-5dfa11bd6b06"
      },
      "source": [
        "import os\n",
        "# Find the latest version of spark 3.0  from http://www.apache.org/dist/spark/ and enter as the spark version\n",
        "# For example:\n",
        "# spark_version = 'spark-3.0.3'\n",
        "spark_version = 'spark-3.0.3'\n",
        "os.environ['SPARK_VERSION']=spark_version\n",
        "\n",
        "# Install Spark and Java\n",
        "!apt-get update\n",
        "!apt-get install openjdk-8-jdk-headless -qq > /dev/null\n",
        "!wget -q http://www.apache.org/dist/spark/$SPARK_VERSION/$SPARK_VERSION-bin-hadoop2.7.tgz\n",
        "!tar xf $SPARK_VERSION-bin-hadoop2.7.tgz\n",
        "!pip install -q findspark\n",
        "\n",
        "# Set Environment Variables\n",
        "os.environ[\"JAVA_HOME\"] = \"/usr/lib/jvm/java-8-openjdk-amd64\"\n",
        "os.environ[\"SPARK_HOME\"] = f\"/content/{spark_version}-bin-hadoop2.7\"\n",
        "\n",
        "# Start a SparkSession\n",
        "import findspark\n",
        "findspark.init()"
      ],
      "execution_count": 1,
      "outputs": [
        {
          "output_type": "stream",
          "name": "stdout",
          "text": [
            "\r0% [Working]\r            \rGet:1 https://cloud.r-project.org/bin/linux/ubuntu bionic-cran40/ InRelease [3,626 B]\n",
            "Ign:2 https://developer.download.nvidia.com/compute/cuda/repos/ubuntu1804/x86_64  InRelease\n",
            "Get:3 http://ppa.launchpad.net/c2d4u.team/c2d4u4.0+/ubuntu bionic InRelease [15.9 kB]\n",
            "Ign:4 https://developer.download.nvidia.com/compute/machine-learning/repos/ubuntu1804/x86_64  InRelease\n",
            "Get:5 https://developer.download.nvidia.com/compute/cuda/repos/ubuntu1804/x86_64  Release [696 B]\n",
            "Hit:6 https://developer.download.nvidia.com/compute/machine-learning/repos/ubuntu1804/x86_64  Release\n",
            "Get:7 https://developer.download.nvidia.com/compute/cuda/repos/ubuntu1804/x86_64  Release.gpg [836 B]\n",
            "Get:8 http://security.ubuntu.com/ubuntu bionic-security InRelease [88.7 kB]\n",
            "Hit:9 http://ppa.launchpad.net/cran/libgit2/ubuntu bionic InRelease\n",
            "Hit:10 http://archive.ubuntu.com/ubuntu bionic InRelease\n",
            "Hit:11 http://ppa.launchpad.net/deadsnakes/ppa/ubuntu bionic InRelease\n",
            "Get:12 http://archive.ubuntu.com/ubuntu bionic-updates InRelease [88.7 kB]\n",
            "Get:14 http://ppa.launchpad.net/graphics-drivers/ppa/ubuntu bionic InRelease [21.3 kB]\n",
            "Get:15 https://developer.download.nvidia.com/compute/cuda/repos/ubuntu1804/x86_64  Packages [829 kB]\n",
            "Get:16 http://archive.ubuntu.com/ubuntu bionic-backports InRelease [74.6 kB]\n",
            "Get:17 http://ppa.launchpad.net/c2d4u.team/c2d4u4.0+/ubuntu bionic/main Sources [1,813 kB]\n",
            "Get:18 http://security.ubuntu.com/ubuntu bionic-security/main amd64 Packages [2,461 kB]\n",
            "Get:19 http://security.ubuntu.com/ubuntu bionic-security/restricted amd64 Packages [691 kB]\n",
            "Get:20 http://security.ubuntu.com/ubuntu bionic-security/universe amd64 Packages [1,444 kB]\n",
            "Get:21 http://ppa.launchpad.net/c2d4u.team/c2d4u4.0+/ubuntu bionic/main amd64 Packages [930 kB]\n",
            "Get:22 http://archive.ubuntu.com/ubuntu bionic-updates/universe amd64 Packages [2,225 kB]\n",
            "Get:23 http://ppa.launchpad.net/graphics-drivers/ppa/ubuntu bionic/main amd64 Packages [44.7 kB]\n",
            "Get:24 http://archive.ubuntu.com/ubuntu bionic-updates/restricted amd64 Packages [725 kB]\n",
            "Get:25 http://archive.ubuntu.com/ubuntu bionic-updates/main amd64 Packages [2,898 kB]\n",
            "Fetched 14.4 MB in 9s (1,570 kB/s)\n",
            "Reading package lists... Done\n"
          ]
        }
      ]
    },
    {
      "cell_type": "code",
      "metadata": {
        "colab": {
          "base_uri": "https://localhost:8080/"
        },
        "id": "cUNmEHxO5OJt",
        "outputId": "2c4739a6-555d-4aee-cfca-142ac4f0624d"
      },
      "source": [
        "!wget https://jdbc.postgresql.org/download/postgresql-42.2.9.jar"
      ],
      "execution_count": 2,
      "outputs": [
        {
          "output_type": "stream",
          "name": "stdout",
          "text": [
            "--2021-12-03 17:03:00--  https://jdbc.postgresql.org/download/postgresql-42.2.9.jar\n",
            "Resolving jdbc.postgresql.org (jdbc.postgresql.org)... 72.32.157.228, 2001:4800:3e1:1::228\n",
            "Connecting to jdbc.postgresql.org (jdbc.postgresql.org)|72.32.157.228|:443... connected.\n",
            "HTTP request sent, awaiting response... 200 OK\n",
            "Length: 914037 (893K) [application/java-archive]\n",
            "Saving to: ‘postgresql-42.2.9.jar’\n",
            "\n",
            "postgresql-42.2.9.j 100%[===================>] 892.61K  --.-KB/s    in 0.08s   \n",
            "\n",
            "2021-12-03 17:03:00 (10.7 MB/s) - ‘postgresql-42.2.9.jar’ saved [914037/914037]\n",
            "\n"
          ]
        }
      ]
    },
    {
      "cell_type": "code",
      "metadata": {
        "id": "I23uOcbS6_G7"
      },
      "source": [
        "from pyspark.sql import SparkSession\n",
        "spark = SparkSession.builder.appName(\"Spark_Instrument\").config(\"spark.driver.extraClassPath\",\"/content/postgresql-42.2.9.jar\").getOrCreate()"
      ],
      "execution_count": 3,
      "outputs": []
    },
    {
      "cell_type": "code",
      "metadata": {
        "colab": {
          "base_uri": "https://localhost:8080/"
        },
        "id": "wRMhIg4r5609",
        "outputId": "7c774343-9def-4b62-9827-c0de0b370c6e"
      },
      "source": [
        "from pyspark import SparkFiles\n",
        "url = \"https://s3.amazonaws.com/amazon-reviews-pds/tsv/amazon_reviews_us_Musical_Instruments_v1_00.tsv.gz\"\n",
        "spark.sparkContext.addFile(url)\n",
        "df = spark.read.option('header', 'true').csv(SparkFiles.get(\"amazon_reviews_us_Musical_Instruments_v1_00.tsv.gz\"), inferSchema=True, sep='\\t', timestampFormat=\"mm/dd/yy\")\n",
        "df.show(10)"
      ],
      "execution_count": 4,
      "outputs": [
        {
          "output_type": "stream",
          "name": "stdout",
          "text": [
            "+-----------+-----------+--------------+----------+--------------+--------------------+-------------------+-----------+-------------+-----------+----+-----------------+--------------------+--------------------+-----------+\n",
            "|marketplace|customer_id|     review_id|product_id|product_parent|       product_title|   product_category|star_rating|helpful_votes|total_votes|vine|verified_purchase|     review_headline|         review_body|review_date|\n",
            "+-----------+-----------+--------------+----------+--------------+--------------------+-------------------+-----------+-------------+-----------+----+-----------------+--------------------+--------------------+-----------+\n",
            "|         US|   45610553| RMDCHWD0Y5OZ9|B00HH62VB6|     618218723|AGPtek® 10 Isolat...|Musical Instruments|          3|            0|          1|   N|                N|         Three Stars|Works very good, ...| 2015-08-31|\n",
            "|         US|   14640079| RZSL0BALIYUNU|B003LRN53I|     986692292|Sennheiser HD203 ...|Musical Instruments|          5|            0|          0|   N|                Y|          Five Stars|Nice headphones a...| 2015-08-31|\n",
            "|         US|    6111003| RIZR67JKUDBI0|B0006VMBHI|     603261968|AudioQuest LP rec...|Musical Instruments|          3|            0|          1|   N|                Y|         Three Stars|removes dust. doe...| 2015-08-31|\n",
            "|         US|    1546619|R27HL570VNL85F|B002B55TRG|     575084461|Hohner Inc. 560BX...|Musical Instruments|          5|            0|          0|   N|                Y|I purchase these ...|I purchase these ...| 2015-08-31|\n",
            "|         US|   12222213|R34EBU9QDWJ1GD|B00N1YPXW2|     165236328|Blue Yeti USB Mic...|Musical Instruments|          5|            0|          0|   N|                Y|          Five Stars|This is an awesom...| 2015-08-31|\n",
            "|         US|   46018513|R1WCUI4Z1SIQEO|B001N4GRGS|     134151483|Middle Atlantic P...|Musical Instruments|          5|            0|          0|   N|                N|          Five Stars|Used to cool equi...| 2015-08-31|\n",
            "|         US|   10225065| RL5LNO26GAVJ1|B009PJRMHQ|     694166585|Kmise 1pc Pickgua...|Musical Instruments|          2|            3|          4|   N|                Y|Will not Fit Epip...|Note- Does not Fi...| 2015-08-31|\n",
            "|         US|    6356995|R3GYQ5W8JHP8SB|B00NKBDAZS|     446431775|Kealoha Concert U...|Musical Instruments|          5|            0|          0|   N|                Y|          Five Stars|Well built Ukulel...| 2015-08-31|\n",
            "|         US|   35297198|R30SHYQXGG5EYC|B006MIU7U2|     125871705|Halco 80000 - MR1...|Musical Instruments|          5|            0|          0|   N|                Y|Works fine. Hope ...|Had to replace a ...| 2015-08-31|\n",
            "|         US|   32139520|R14YLXA56NP51I|B000FIBD0I|     771888534|Gator GPTBLACK Pl...|Musical Instruments|          5|            1|          1|   N|                N|I upgraded the po...|I've owned multip...| 2015-08-31|\n",
            "+-----------+-----------+--------------+----------+--------------+--------------------+-------------------+-----------+-------------+-----------+----+-----------------+--------------------+--------------------+-----------+\n",
            "only showing top 10 rows\n",
            "\n"
          ]
        }
      ]
    },
    {
      "cell_type": "code",
      "metadata": {
        "colab": {
          "base_uri": "https://localhost:8080/"
        },
        "id": "zqLwJFnD8caO",
        "outputId": "62fdea9a-0a5f-4cd5-96c4-0732980f4408"
      },
      "source": [
        "print(df.count())\n",
        "df = df.dropna()\n",
        "print(df.count())\n",
        "df = df.dropDuplicates()\n",
        "print(df.count())"
      ],
      "execution_count": 5,
      "outputs": [
        {
          "output_type": "stream",
          "name": "stdout",
          "text": [
            "904765\n",
            "904663\n",
            "904663\n"
          ]
        }
      ]
    },
    {
      "cell_type": "code",
      "metadata": {
        "colab": {
          "base_uri": "https://localhost:8080/"
        },
        "id": "S04hiMbcBLWn",
        "outputId": "aed3ad63-19ee-4f06-bbf4-2a6bda5a6fad"
      },
      "source": [
        "from pyspark.sql.functions import to_date\n",
        "\n",
        "review_id_table = df.select('review_id', 'customer_id', 'product_id', 'product_parent', to_date('review_date', \"yyyy-MM-dd\").alias('review_date'))\n",
        "review_id_table.show(10)"
      ],
      "execution_count": 25,
      "outputs": [
        {
          "output_type": "stream",
          "name": "stdout",
          "text": [
            "+--------------+-----------+----------+--------------+-----------+\n",
            "|     review_id|customer_id|product_id|product_parent|review_date|\n",
            "+--------------+-----------+----------+--------------+-----------+\n",
            "|R100LMJJNWFDJK|   12078619|B00B054NVG|     963648561| 2014-10-24|\n",
            "|R10106OQ9QP86T|   43421823|B004W4TYMA|     461512942| 2015-03-30|\n",
            "|R101ER44F5J3EK|   49269789|B00AM966CU|     172551627| 2015-02-04|\n",
            "|R1036AJM4DUM64|   17911630|B006X735PQ|     627151806| 2013-04-03|\n",
            "|R103CWY3MPPRYB|   31063425|B00DY1F2CS|     554396934| 2015-08-02|\n",
            "|R104VHJ7WLB4PP|    7146158|B00J0823FI|     647000350| 2015-06-11|\n",
            "|R105A5ZRV1UHT1|   15499595|B0002H0FZ6|     497097576| 2014-10-18|\n",
            "|R105RU48J2VL19|   17984606|B005DBF0AG|     990545730| 2015-06-15|\n",
            "|R106LKOCWLJKP1|   14027720|B00558JGN4|     463070117| 2013-02-13|\n",
            "|R106NRR8JSGUID|   20032109|B000VTMUQ2|     477030445| 2014-07-05|\n",
            "+--------------+-----------+----------+--------------+-----------+\n",
            "only showing top 10 rows\n",
            "\n"
          ]
        }
      ]
    },
    {
      "cell_type": "code",
      "metadata": {
        "colab": {
          "base_uri": "https://localhost:8080/"
        },
        "id": "w9pd2pJYB6He",
        "outputId": "d6375c03-158e-4f84-bb4d-56c98371eb49"
      },
      "source": [
        "products = df.select('product_id', 'product_title')\n",
        "products = products.dropDuplicates()\n",
        "products.show()"
      ],
      "execution_count": 7,
      "outputs": [
        {
          "output_type": "stream",
          "name": "stdout",
          "text": [
            "+----------+--------------------+\n",
            "|product_id|       product_title|\n",
            "+----------+--------------------+\n",
            "|B00ASHQQKI|SUPERNIGHT 5050 1...|\n",
            "|B001BQ9HR4|Maxon AD-9 Analog...|\n",
            "|B001B9JZ78|Clarke SBDC Penny...|\n",
            "|B000BHJX96|Viva VLML5 Standa...|\n",
            "|B0002E1TAY|Gibson Masterbuil...|\n",
            "|B0056XAWOU|Griffin GC20007 D...|\n",
            "|B00JJ18VIE|Reliable Hardware...|\n",
            "|B0002H05BA|D'Addario EJ21 Ni...|\n",
            "|B000WS1QC6|Yamaha PA130 120 ...|\n",
            "|B0006GRRQI|Gator G-PG ACOUST...|\n",
            "|B0006NMUJU|Shure Foam Windsc...|\n",
            "|B005DJOI8I|Neewer 3.5mm Hand...|\n",
            "|B006NH9OC4|Cakewalk SONAR X1...|\n",
            "|B0046HADYQ|Shure EAC64BK 64 ...|\n",
            "|B003B1PFWS|Planet Waves 1/8 ...|\n",
            "|B00I81TNHO|Dean Markley 2034...|\n",
            "|B000W348OO|Peavey Pvi 100 Dy...|\n",
            "|B003AYI8H0|Fender Bushings V...|\n",
            "|B0002KZQ7U|Behringer V-Amp P...|\n",
            "|B009NO06JO|Yamaha THR AMPS T...|\n",
            "+----------+--------------------+\n",
            "only showing top 20 rows\n",
            "\n"
          ]
        }
      ]
    },
    {
      "cell_type": "code",
      "metadata": {
        "colab": {
          "base_uri": "https://localhost:8080/"
        },
        "id": "3EykuNu_Cmrp",
        "outputId": "9d162195-d6ac-4cac-a227-18579bc76a01"
      },
      "source": [
        "customers = df.select('customer_id')\n",
        "customers = customers.groupBy('customer_id').count()\n",
        "customers = customers.withColumnRenamed(\"count\", \"customer_count\")\n",
        "customers.show()"
      ],
      "execution_count": 8,
      "outputs": [
        {
          "output_type": "stream",
          "name": "stdout",
          "text": [
            "+-----------+--------------+\n",
            "|customer_id|customer_count|\n",
            "+-----------+--------------+\n",
            "|   10256687|             3|\n",
            "|   38115097|             1|\n",
            "|   45891545|             5|\n",
            "|   35646935|             1|\n",
            "|    5373021|             1|\n",
            "|    2533410|            11|\n",
            "|   12886089|             1|\n",
            "|   45599268|             1|\n",
            "|   44267121|             8|\n",
            "|   42984093|             1|\n",
            "|   39095180|             1|\n",
            "|   25232993|             1|\n",
            "|   11263585|             5|\n",
            "|   29660587|             3|\n",
            "|   24652965|             3|\n",
            "|   52600605|             2|\n",
            "|   10012354|             2|\n",
            "|   10208065|             2|\n",
            "|   43381859|             1|\n",
            "|   42208849|            11|\n",
            "+-----------+--------------+\n",
            "only showing top 20 rows\n",
            "\n"
          ]
        }
      ]
    },
    {
      "cell_type": "code",
      "metadata": {
        "colab": {
          "base_uri": "https://localhost:8080/"
        },
        "id": "3Ms2ZDJQFJ9N",
        "outputId": "a4044d37-6fa2-474d-fb72-d78e0dd45de9"
      },
      "source": [
        "vine_table = df.select('review_id', 'star_rating', 'helpful_votes', 'total_votes', 'vine')\n",
        "vine_table.show()"
      ],
      "execution_count": 9,
      "outputs": [
        {
          "output_type": "stream",
          "name": "stdout",
          "text": [
            "+--------------+-----------+-------------+-----------+----+\n",
            "|     review_id|star_rating|helpful_votes|total_votes|vine|\n",
            "+--------------+-----------+-------------+-----------+----+\n",
            "|R100LMJJNWFDJK|          5|            0|          0|   N|\n",
            "|R10106OQ9QP86T|          5|            0|          1|   N|\n",
            "|R101ER44F5J3EK|          5|            0|          0|   N|\n",
            "|R1036AJM4DUM64|          4|            0|          0|   N|\n",
            "|R103CWY3MPPRYB|          2|            0|          0|   N|\n",
            "|R104VHJ7WLB4PP|          5|            0|          0|   N|\n",
            "|R105A5ZRV1UHT1|          5|            0|          0|   N|\n",
            "|R105RU48J2VL19|          5|           12|         12|   N|\n",
            "|R106LKOCWLJKP1|          1|            2|          8|   N|\n",
            "|R106NRR8JSGUID|          5|            0|          0|   N|\n",
            "|R106V7A3TQ944V|          5|            0|          0|   N|\n",
            "|R109H6GZEOXX1S|          5|            2|          2|   N|\n",
            "|R10ACINEOPG32H|          1|            0|          0|   N|\n",
            "|R10BNDWVSS8YML|          5|            0|          0|   N|\n",
            "|R10C1V51A5ZP2Y|          2|            0|          0|   N|\n",
            "|R10CWVY9K3TF1E|          1|            0|          0|   N|\n",
            "|R10E1IRM14MH7L|          1|            3|          5|   N|\n",
            "|R10E1M790M3J3R|          5|            1|          1|   N|\n",
            "|R10FENDEAX38CN|          5|            2|          3|   N|\n",
            "|R10G05UZZ7GO83|          5|            0|          0|   N|\n",
            "+--------------+-----------+-------------+-----------+----+\n",
            "only showing top 20 rows\n",
            "\n"
          ]
        }
      ]
    },
    {
      "cell_type": "markdown",
      "metadata": {
        "id": "zaMAnLomGDvo"
      },
      "source": [
        "#**RDS**"
      ]
    },
    {
      "cell_type": "code",
      "metadata": {
        "id": "V2slLKIlGI4I"
      },
      "source": [
        "# Configuration for RDS instance\n",
        "mode=\"append\"\n",
        "jdbc_url = \"jdbc:postgresql://<database>:5432/InstrumentDB\"\n",
        "config = {\"user\":\"<user>\",\n",
        "          \"password\": \"<password>\",\n",
        "          \"driver\":\"org.postgresql.Driver\"}"
      ],
      "execution_count": 17,
      "outputs": []
    },
    {
      "cell_type": "code",
      "metadata": {
        "id": "zyFWDkgXGMJx"
      },
      "source": [
        "# Write DataFrame to table\n",
        "\n",
        "vine_table.write.jdbc(url=jdbc_url, table='vine_table', mode=mode, properties=config)"
      ],
      "execution_count": 18,
      "outputs": []
    },
    {
      "cell_type": "code",
      "metadata": {
        "id": "Yeh4DX-ogXJR"
      },
      "source": [
        "customers.write.jdbc(url=jdbc_url, table='customers', mode=mode, properties=config)"
      ],
      "execution_count": 19,
      "outputs": []
    },
    {
      "cell_type": "code",
      "metadata": {
        "id": "BmwEwlSIGOnD"
      },
      "source": [
        "products.write.jdbc(url=jdbc_url, table='products', mode=mode, properties=config)"
      ],
      "execution_count": 20,
      "outputs": []
    },
    {
      "cell_type": "code",
      "metadata": {
        "id": "3oxVtWQ4gmow"
      },
      "source": [
        "review_id_table.write.jdbc(url=jdbc_url, table='review_id_table', mode=mode, properties=config)"
      ],
      "execution_count": 26,
      "outputs": []
    }
  ]
}